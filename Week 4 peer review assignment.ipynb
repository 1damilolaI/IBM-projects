{
 "cells": [
  {
   "attachments": {},
   "cell_type": "markdown",
   "metadata": {},
   "source": [
    "# My Jupyter Notebook on IBM Watson Studio"
   ]
  },
  {
   "attachments": {},
   "cell_type": "markdown",
   "metadata": {},
   "source": [
    "**Name: Ibikunle Damilola**\n",
    "\n",
    "Desired Occupation: Data Scientist/ Machine Learning Engineer"
   ]
  },
  {
   "attachments": {},
   "cell_type": "markdown",
   "metadata": {},
   "source": [
    "*I am interested in data science because I would like to create new technologies like Machine Learning models and contribute to the advancement of technology in general*"
   ]
  },
  {
   "attachments": {},
   "cell_type": "markdown",
   "metadata": {},
   "source": [
    "### The Code below (in cell 5) calculates the percentage of food in total income"
   ]
  },
  {
   "cell_type": "code",
   "execution_count": 1,
   "metadata": {},
   "outputs": [
    {
     "name": "stdout",
     "output_type": "stream",
     "text": [
      "2.25\n"
     ]
    }
   ],
   "source": [
    "income = 20000\n",
    "food = 450\n",
    "percentageOfFood = (food/income)*100\n",
    "print(percentageOfFood)"
   ]
  },
  {
   "attachments": {},
   "cell_type": "markdown",
   "metadata": {},
   "source": [
    "**List of courses on IBM Tools for Data Science**\n",
    "\n",
    "***\n",
    "\n",
    "\n",
    "Week | List of Courses | Status\n",
    "--- | --- | ---\n",
    "Week 1 | Data Scientist's Toolkit | `Completed`\n",
    "Week 2 | Open Source Tools | `Completed`\n",
    "Week 3 | IBM Tools for Data Science | `Completed`\n",
    "Week 4 | Final Assignment| `In progress`\n",
    "\n",
    "\n",
    "Click <a href=\"https://www.coursera.org/learn/open-source-tools-for-data-science?specialization=ibm-data-science\">Here</a> to visit website"
   ]
  },
  {
   "cell_type": "markdown",
   "metadata": {},
   "source": []
  }
 ],
 "metadata": {
  "kernelspec": {
   "display_name": "Python 3",
   "language": "python",
   "name": "python3"
  },
  "language_info": {
   "codemirror_mode": {
    "name": "ipython",
    "version": 3
   },
   "file_extension": ".py",
   "mimetype": "text/x-python",
   "name": "python",
   "nbconvert_exporter": "python",
   "pygments_lexer": "ipython3",
   "version": "3.10.4 (tags/v3.10.4:9d38120, Mar 23 2022, 23:13:41) [MSC v.1929 64 bit (AMD64)]"
  },
  "orig_nbformat": 4,
  "vscode": {
   "interpreter": {
    "hash": "a3f3658f2dbaba3398adcdbb53e8315a5bc531e474e97d7cdc8d13a7e73856e4"
   }
  }
 },
 "nbformat": 4,
 "nbformat_minor": 2
}
